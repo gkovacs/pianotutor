{
 "metadata": {
  "name": ""
 },
 "nbformat": 3,
 "nbformat_minor": 0,
 "worksheets": [
  {
   "cells": [
    {
     "cell_type": "code",
     "collapsed": false,
     "input": [
      "from music21 import *\n",
      "import itertools\n",
      "\n",
      "abcfile = 'hymnsandcarols/All_Children_Are_609.xml'\n",
      "song = converter.parse(abcfile)\n",
      "\n",
      "def streamToNotes(measure, withDuration=False):\n",
      "    output = []\n",
      "    for noteOrRest in measure.notesAndRests:\n",
      "        duration = noteOrRest.duration.quarterLength\n",
      "        durationStr = ''\n",
      "        if withDuration:\n",
      "            durationStr = '_' + str(duration)\n",
      "        if noteOrRest.isRest:\n",
      "            output.append('R' + durationStr)\n",
      "        else:\n",
      "            output.append(':'.join([str(x) + durationStr for x in noteOrRest.pitches]))\n",
      "    return output\n",
      "\n",
      "'''\n",
      "def overlap(measures, start1, start2, length):\n",
      "    measures1 = measures.measures(start1, start1 + length, collect=[], gatherSpanners=False, searchContext=False)\n",
      "    measures2 = measures.measures(start2, start2 + length, collect=[], gatherSpanners=False, searchContext=False)\n",
      "    notes1 = streamToNotes(measures1)\n",
      "    notes2 = streamToNotes(measures2)\n",
      "    overlapNum = 0\n",
      "    for i in range(min(len(notes1), len(notes2))):\n",
      "'''\n",
      "\n",
      "'''\n",
      "def segmentByDurations(measures, maxchunksize=15):\n",
      "    durations = []\n",
      "    for noteOrRest in measures.notesAndRests:\n",
      "        duration = noteOrRest.duration.quarterLength\n",
      "        durations.append(duration)\n",
      "'''    \n",
      "\n",
      "def isEndMeasure(measure):\n",
      "    for noteOrRest in measure.notesAndRests:\n",
      "        lyrics = ''.join([x.text for x in noteOrRest.lyrics])\n",
      "        if ';' in lyrics or '.' in lyrics:\n",
      "            return True\n",
      "    return False\n",
      "        \n",
      "def getEndMeasures(part):\n",
      "    endmeasures = []\n",
      "    for idx,measure in enumerate(part.getElementsByClass(stream.Measure)):\n",
      "        if isEndMeasure(measure):\n",
      "            endmeasures.append(idx)\n",
      "    return endmeasures\n",
      "\n",
      "print 'num parts:', len(song.parts)\n",
      "for part in song.getElementsByClass(stream.Part):\n",
      "    endmeasures = getEndMeasures(part)\n",
      "    measures = part.getElementsByClass(stream.Measure)\n",
      "    startmeasure = 0\n",
      "    for endmeasure in endmeasures:\n",
      "        notes = []\n",
      "        for measureidx in range(startmeasure, endmeasure+1):\n",
      "            measure = measures[measureidx]\n",
      "            notes.extend(streamToNotes(measure))\n",
      "        startmeasure = endmeasure+1\n",
      "        print ' '.join(notes)\n",
      "    #for measure in part.getElementsByClass(stream.Measure):\n",
      "        #pass\n",
      "        #for x in measure.notesAndRests:\n",
      "        #    print x\n",
      "        #print ' '.join(streamToNotes(measure))\n",
      "        #print measure\n",
      "        #for noteOrRest in measure.notesAndRests:\n",
      "        #    print noteOrRest.lyrics\n",
      "        \n",
      "        #pitches = [str(pitch).lower() for pitch in measure.pitches]\n",
      "        #print pitches\n",
      "    #for measurenum in itertools.count():\n",
      "        #measure = part.measures(measurenum, measurenum, collect=[], gatherSpanners=False, searchContext=False)[0]\n",
      "        #if part.measureNumber != measurenum:\n",
      "        #    break\n",
      "        #pitches = [str(pitch).lower() for pitch in measure.pitches]\n",
      "        #print pitches"
     ],
     "language": "python",
     "metadata": {},
     "outputs": [
      {
       "output_type": "stream",
       "stream": "stdout",
       "text": [
        "num parts: 1\n",
        "B4 C5 D5 C5 B4 A4 G4 C5 B4 A4 G4 F#4 E4 B4 B4 E4 B4 C5\n",
        "D5 C5 B4 A4 G4 C5 B4 A4 G4 F#4 E4 B4 B4 E4 F#4\n",
        "G4 F#4 G4 A4 B4 A4 G4 F#4 D4 G4 G4 D5 A4 B4 E5\n",
        "D5 E5 B4 A4 G4 C5 B4 A4 G4 F#4 E4 B4 B4 E4 F#4\n",
        "G4 F#4 G4 A4 B4 A4 G4 F#4 D4 G4 G4 D5 A4 B4 E5\n",
        "D5 E5 B4 A4 G4 C5 B4 A4 G4 F#4 E4 B4 C5 E4\n"
       ]
      }
     ],
     "prompt_number": 14
    },
    {
     "cell_type": "code",
     "collapsed": false,
     "input": [
      "def pitchToStr(p):\n",
      "  np = pitch.Pitch(p.nameWithOctave)\n",
      "  if not np.octave:\n",
      "    np.octave = 2\n",
      "  else:\n",
      "    np.octave -= 2\n",
      "  origmidi = np.midi\n",
      "  if np.accidental.name == 'flat':\n",
      "    np.accidental = pitch.Accidental('sharp')\n",
      "    np = np.transpose(-2)\n",
      "  newmidi = np.midi\n",
      "  return np.nameWithOctave\n",
      "\n",
      "print pitchToStr(pitch.Pitch('E-5'))"
     ],
     "language": "python",
     "metadata": {},
     "outputs": [
      {
       "output_type": "stream",
       "stream": "stdout",
       "text": [
        "D#3\n"
       ]
      }
     ],
     "prompt_number": 21
    }
   ],
   "metadata": {}
  }
 ]
}