{
 "metadata": {
  "name": ""
 },
 "nbformat": 3,
 "nbformat_minor": 0,
 "worksheets": [
  {
   "cells": [
    {
     "cell_type": "markdown",
     "metadata": {},
     "source": [
      "## Purpose\n",
      "\n",
      "This notebook's aim is to illustrate that:\n",
      "\n",
      "* The difficulty score used by the curriculum generator creates an ordering of tasks that is beneficial for learners (I hope!)\n",
      "\n",
      "## Data Source\n",
      "\n",
      "The data used is from the MTurk runs:\n",
      "\n",
      "* \"pianotutor 1\" (14 HITs, \"run1_14_Batch_1413932_batch_results.csv\")\n",
      "* \"pianotutor 4\" (70 HITs, \"run2_70_Batch_1414012_batch_results.csv\")\n",
      "* server-side logs stored at http://pianotutor.herokuapp.com/getlogs (\"logs_feb10_1392078996.json\")"
     ]
    },
    {
     "cell_type": "markdown",
     "metadata": {},
     "source": [
      "## Results\n",
      "\n",
      "If we look at unfiltered numbers, of total/max completion times and number of retries throughout the tasks, there doesn't seem to be much difference. In this case, \"difficulty=1\" means no scrambling (the order is exactly what my program would generate), and \"difficulty=64\" means the order of the lines was completely randomized. (The number following difficulty indicates the block size within which scrambling occurred).\n",
      "\n",
      "The results below are medians:\n",
      "\n",
      "* max time on an individual line (seconds): 45 (difficulty=1) vs 44 (difficulty=64)\n",
      "* total time on task (seconds): 828 (difficulty=1) vs 1022.5 (difficulty=64)\n",
      "\n",
      "* max repeats: 7 (difficulty=1) vs 5.5 (difficulty=64)\n",
      "* total num tries (perfect would be 60): 95 (difficulty=1) vs 88 (difficulty=64)\n",
      "\n",
      "## TODO Analysis\n",
      "\n",
      "These results aren't what I expected. Stuff to check in logs:\n",
      "\n",
      "* Are the people in the more difficult conditions typing slower / more carefully, so as to avoid mistakes?\n",
      "* Did more people start but release HITs for more difficult conditions? (this would mean that less-capable turkers just avoided the more difficult conditions via self-selecion)\n",
      "* Were the people who did the more difficult conditions more experienced / recent with musical experience?"
     ]
    },
    {
     "cell_type": "code",
     "collapsed": false,
     "input": [
      "import csv\n",
      "import json\n",
      "import dateutil.parser\n",
      "from numpy import median, mean\n",
      "from scipy.stats import sem\n"
     ],
     "language": "python",
     "metadata": {},
     "outputs": [],
     "prompt_number": 112
    },
    {
     "cell_type": "code",
     "collapsed": false,
     "input": [
      "def listUsers():\n",
      "    for line in csv.DictReader(open('run1_14_Batch_1413932_batch_results.csv')):\n",
      "        yield line['WorkerId']\n",
      "    for line in csv.DictReader(open('run2_70_Batch_1414012_batch_results.csv')):\n",
      "        yield line['WorkerId']\n",
      "\n",
      "allUsers = list(listUsers())\n",
      "#print allUsers\n",
      "allLogs = json.load(open('logs_feb10_1392078996.json'))\n",
      "\n",
      "def listTaskToWorker():\n",
      "    tasks = {}\n",
      "    for user in allUsers:\n",
      "        for logline in allLogs[user]:\n",
      "            if logline['lineNum'] == 59: # task was finished\n",
      "                taskname = logline['taskname']\n",
      "                if taskname not in tasks:\n",
      "                    tasks[taskname] = user\n",
      "    return tasks\n",
      "\n",
      "taskToWorker = listTaskToWorker()\n",
      "\n",
      "workerToTask = {}\n",
      "for task,worker in taskToWorker.iteritems():\n",
      "    workerToTask[worker] = task\n",
      "\n"
     ],
     "language": "python",
     "metadata": {},
     "outputs": [],
     "prompt_number": 110
    },
    {
     "cell_type": "code",
     "collapsed": false,
     "input": [
      "def toUnixTime(dateString):\n",
      "    timezones = ['(Eastern Standard Time)', '(Central Standard Time)', '(Mountain Standard Time)', '(Pacific Standard Time)', '(US Mountain Standard Time)', '(Hawaiian Standard Time)', '(Mountain Standard Time (Mexico))']\n",
      "    for timezone in timezones:\n",
      "        if timezone in dateString:\n",
      "            dateString = dateString.replace(timezone, '')\n",
      "    dt = dateutil.parser.parse(dateString)\n",
      "    return dt\n",
      "\n",
      "#print toUnixTime('Mon Feb 10 2014 16:05:27 GMT-0500 (Eastern Standard Time)')"
     ],
     "language": "python",
     "metadata": {},
     "outputs": [],
     "prompt_number": 111
    },
    {
     "cell_type": "code",
     "collapsed": false,
     "input": [
      "def listWorkerToCompletionTimes():\n",
      "    worker_to_completion_times = {}\n",
      "    for user in allUsers:\n",
      "        if user not in workerToTask:\n",
      "            continue\n",
      "        completion_times = []\n",
      "        for logline in allLogs[user]:\n",
      "            endtime = toUnixTime(logline['posttime'])\n",
      "            starttime = toUnixTime(logline['starttime'])\n",
      "            completion_times.append((endtime - starttime).total_seconds())\n",
      "        worker_to_completion_times[user] = completion_times\n",
      "    return worker_to_completion_times\n",
      "\n",
      "workerToCompletionTimes = listWorkerToCompletionTimes()\n",
      "taskToCompletionTimes = {}\n",
      "for user in allUsers:\n",
      "    if user in workerToTask:\n",
      "        task = workerToTask[user]\n",
      "        taskToCompletionTimes[task] = workerToCompletionTimes[user]\n",
      "#print listWorkerToCompletionTime()\n"
     ],
     "language": "python",
     "metadata": {},
     "outputs": [],
     "prompt_number": 97
    },
    {
     "cell_type": "code",
     "collapsed": false,
     "input": [
      "def groupRepeatedLines(loglines):\n",
      "    grouped_lines = []\n",
      "    current_group = []\n",
      "    for line in loglines:\n",
      "        if len(current_group) == 0 or current_group[0]['targetText'] == line['targetText']:\n",
      "            current_group.append(line)\n",
      "        else:\n",
      "            grouped_lines.append(current_group)\n",
      "            current_group = [line]\n",
      "    if len(current_group) > 0:\n",
      "        grouped_lines.append(current_group)\n",
      "    return grouped_lines\n",
      "\n",
      "def getLogsGroupedByRepeatedLinesForUser(user):\n",
      "    return groupRepeatedLines(allLogs[user])\n",
      "\n",
      "def getLogsGroupedByRepeatedLinesForTask(task):\n",
      "    user = taskToWorker[task]\n",
      "    return groupRepeatedLines(allLogs[user])\n",
      "\n",
      "for user in allUsers:\n",
      "    if user in workerToTask:\n",
      "        print len(getLogsGroupedByRepeatedLinesForUser(user))\n",
      "        break"
     ],
     "language": "python",
     "metadata": {},
     "outputs": [
      {
       "output_type": "stream",
       "stream": "stdout",
       "text": [
        "60\n"
       ]
      }
     ],
     "prompt_number": 130
    },
    {
     "cell_type": "code",
     "collapsed": false,
     "input": [
      "def getTaskDifficulty(taskname):\n",
      "    return int(taskname.split('_')[0])\n",
      "\n",
      "def listDifficultyToTasks():\n",
      "    difficulty_to_tasks = {}\n",
      "    for task in taskToWorker.keys():\n",
      "        difficulty = getTaskDifficulty(task)\n",
      "        if difficulty not in difficulty_to_tasks:\n",
      "            difficulty_to_tasks[difficulty] = []\n",
      "        difficulty_to_tasks[difficulty].append(task)\n",
      "    return difficulty_to_tasks\n",
      "\n",
      "difficultyToTasks = listDifficultyToTasks()\n",
      "difficultyLevels = [1, 2, 4, 8, 16, 32, 64]\n",
      "    "
     ],
     "language": "python",
     "metadata": {},
     "outputs": [],
     "prompt_number": 89
    },
    {
     "cell_type": "markdown",
     "metadata": {},
     "source": [
      "## Task Completion Times in each difficulty level"
     ]
    },
    {
     "cell_type": "code",
     "collapsed": false,
     "input": [
      "for difficulty in difficultyLevels:\n",
      "    tasks = difficultyToTasks[difficulty]\n",
      "    task_completion_times = [sum(taskToCompletionTimes[task]) for task in tasks]\n",
      "    print difficulty, median(task_completion_times), mean(task_completion_times), sem(task_completion_times)\n"
     ],
     "language": "python",
     "metadata": {},
     "outputs": [
      {
       "output_type": "stream",
       "stream": "stdout",
       "text": [
        "1 828.0 927.75 133.979822373\n",
        "2 691.5 729.5 55.8266391283\n",
        "4 846.0 995.5 139.967014512\n",
        "8 872.5 982.166666667 136.764275934\n",
        "16 867.5 893.916666667 74.3267212374\n",
        "32 954.0 866.75 64.3461431351\n",
        "64 1022.5 1065.0 78.5397988284\n"
       ]
      }
     ],
     "prompt_number": 114
    },
    {
     "cell_type": "code",
     "collapsed": false,
     "input": [
      "for difficulty in difficultyLevels:\n",
      "    tasks = difficultyToTasks[difficulty]\n",
      "    longest_line_completion_time = [max(taskToCompletionTimes[task]) for task in tasks]\n",
      "    print difficulty, median(longest_line_completion_time), mean(longest_line_completion_time), sem(longest_line_completion_time)\n"
     ],
     "language": "python",
     "metadata": {},
     "outputs": [
      {
       "output_type": "stream",
       "stream": "stdout",
       "text": [
        "1 45.0 57.4166666667 11.6179448016\n",
        "2 28.5 29.9166666667 2.64992376486\n",
        "4 36.5 36.9166666667 3.49557801466\n",
        "8 41.0 48.5 9.81302473988\n",
        "16 41.0 46.9166666667 7.52718138455\n",
        "32 37.5 50.5 8.15335959757\n",
        "64 44.0 49.0 5.1005050255\n"
       ]
      }
     ],
     "prompt_number": 116
    },
    {
     "cell_type": "markdown",
     "metadata": {},
     "source": [
      "## Number of Task Repeats in each difficulty level"
     ]
    },
    {
     "cell_type": "code",
     "collapsed": false,
     "input": [
      "for difficulty in difficultyLevels:\n",
      "    tasks = difficultyToTasks[difficulty]\n",
      "    task_repeats = []\n",
      "    for task in tasks:\n",
      "        total_num_repeats = sum([len(repeats) for repeats in getLogsGroupedByRepeatedLinesForTask(task)])\n",
      "        task_repeats.append(total_num_repeats)\n",
      "    print difficulty, median(task_repeats), mean(task_repeats), sem(task_repeats)\n"
     ],
     "language": "python",
     "metadata": {},
     "outputs": [
      {
       "output_type": "stream",
       "stream": "stdout",
       "text": [
        "1 95.0 108.916666667 15.3427795343\n",
        "2 87.5 92.0833333333 5.59823881036\n",
        "4 89.5 109.583333333 13.3872725249\n",
        "8 87.0 107.833333333 10.8046239634\n",
        "16 89.5 92.0 6.55974870176\n",
        "32 86.0 88.4166666667 4.00843491965\n",
        "64 88.0 97.5 8.51157856669\n"
       ]
      }
     ],
     "prompt_number": 132
    },
    {
     "cell_type": "code",
     "collapsed": false,
     "input": [
      "for difficulty in difficultyLevels:\n",
      "    tasks = difficultyToTasks[difficulty]\n",
      "    task_repeats = []\n",
      "    for task in tasks:\n",
      "        total_num_repeats = max([len(repeats) for repeats in getLogsGroupedByRepeatedLinesForTask(task)])\n",
      "        task_repeats.append(total_num_repeats)\n",
      "    print difficulty, median(task_repeats), mean(task_repeats), sem(task_repeats)\n"
     ],
     "language": "python",
     "metadata": {},
     "outputs": [
      {
       "output_type": "stream",
       "stream": "stdout",
       "text": [
        "1 7.0 10.9166666667 3.39218873951\n",
        "2 5.5 6.5 1.04083299973\n",
        "4 6.5 9.83333333333 2.57268087191\n",
        "8 7.0 10.5833333333 3.12724666715\n",
        "16 5.5 8.75 2.54095245802\n",
        "32 5.5 8.58333333333 1.56407748652\n",
        "64 5.5 8.0 1.87487373312\n"
       ]
      }
     ],
     "prompt_number": 133
    }
   ],
   "metadata": {}
  }
 ]
}